{
 "cells": [
  {
   "cell_type": "code",
   "execution_count": 33,
   "id": "6a4baac2",
   "metadata": {},
   "outputs": [],
   "source": [
    "import pandas as pd"
   ]
  },
  {
   "cell_type": "code",
   "execution_count": 34,
   "id": "7e9606f7",
   "metadata": {},
   "outputs": [],
   "source": [
    "# Read the CSV file into a DataFrame\n",
    "df = pd.read_csv(\"students_complete.csv\")"
   ]
  },
  {
   "cell_type": "code",
   "execution_count": 35,
   "id": "ce506438",
   "metadata": {},
   "outputs": [
    {
     "name": "stdout",
     "output_type": "stream",
     "text": [
      "15\n"
     ]
    }
   ],
   "source": [
    "# Calculate the total number of unique schools using 'nunique()'syntax \n",
    "total_unique_schools = df['school_name'].nunique()\n",
    "print(total_unique_schools)"
   ]
  },
  {
   "cell_type": "code",
   "execution_count": 36,
   "id": "9b86046c",
   "metadata": {},
   "outputs": [
    {
     "name": "stdout",
     "output_type": "stream",
     "text": [
      "39170\n"
     ]
    }
   ],
   "source": [
    "# Calculate the total number of students using 'count()' syntax\n",
    "total_students = df['student_name'].count()\n",
    "print(total_students)"
   ]
  },
  {
   "cell_type": "code",
   "execution_count": 37,
   "id": "d0a7f290",
   "metadata": {},
   "outputs": [
    {
     "name": "stdout",
     "output_type": "stream",
     "text": [
      "$ 24649428\n"
     ]
    }
   ],
   "source": [
    "# Calculate the total budget. Would have use the 'sum' syntax but we dont have a budget column on the students_complete.csv file\n",
    "#total_budget = df['budget'].sum()\n",
    "#Assuming working ont the schools_complete.csv file. Load a second DataFrame\n",
    "\n",
    "df2 = pd.read_csv(\"schools_complete.csv\")\n",
    "total_budget = df2['budget'].sum()\n",
    "print((\"$ \")+ str(total_budget))\n"
   ]
  },
  {
   "cell_type": "code",
   "execution_count": 38,
   "id": "55fdd81d",
   "metadata": {},
   "outputs": [
    {
     "name": "stdout",
     "output_type": "stream",
     "text": [
      "78.98537145774827\n"
     ]
    }
   ],
   "source": [
    "# Calculate the average math score\n",
    "avg_math_score = df['math_score'].mean()\n",
    "print(avg_math_score)"
   ]
  },
  {
   "cell_type": "code",
   "execution_count": 39,
   "id": "ebe948bf",
   "metadata": {},
   "outputs": [
    {
     "name": "stdout",
     "output_type": "stream",
     "text": [
      "81.87784018381414\n"
     ]
    }
   ],
   "source": [
    "# Calculate the Average reading score score\n",
    "avg_reading_score = df['reading_score'].mean()\n",
    "print(avg_reading_score)"
   ]
  },
  {
   "cell_type": "code",
   "execution_count": 40,
   "id": "60994f75",
   "metadata": {},
   "outputs": [
    {
     "name": "stdout",
     "output_type": "stream",
     "text": [
      "74.9808526933878\n"
     ]
    }
   ],
   "source": [
    "#  Calculate the percentage of students passing math, assuming above 69 percent grad is pass\n",
    "passing_percent_math = (df['math_score'] >= 70).mean() * 100\n",
    "print(passing_percent_math)\n"
   ]
  },
  {
   "cell_type": "code",
   "execution_count": 41,
   "id": "62f6193d",
   "metadata": {},
   "outputs": [
    {
     "name": "stdout",
     "output_type": "stream",
     "text": [
      "85.80546336482001\n"
     ]
    }
   ],
   "source": [
    "#  Calculate the percentage of students passing reading\n",
    "passing_percent_reading = (df['reading_score'] >= 70).mean() * 100\n",
    "print(passing_percent_reading)"
   ]
  },
  {
   "cell_type": "code",
   "execution_count": 42,
   "id": "c4baaf8a",
   "metadata": {},
   "outputs": [
    {
     "name": "stdout",
     "output_type": "stream",
     "text": [
      "92.4457492979321\n"
     ]
    }
   ],
   "source": [
    "#  Calculate the percentage of students passing both math and reading\n",
    "overall_passing_percentage = ((df['math_score'] >= 60) & (df['reading_score'] >= 60)).mean() * 100\n",
    "print(overall_passing_percentage)\n"
   ]
  },
  {
   "attachments": {},
   "cell_type": "markdown",
   "id": "e8a431db",
   "metadata": {},
   "source": [
    "### School Summary"
   ]
  },
  {
   "attachments": {},
   "cell_type": "markdown",
   "id": "512578be",
   "metadata": {},
   "source": [
    "We will need calculate the per student budget. Calculating the per student budget will provides valuable information about the financial resources available to each student in  school. It will help in understanding how the allocated budget is distributed among the student population."
   ]
  },
  {
   "cell_type": "code",
   "execution_count": 44,
   "id": "d36aaa74",
   "metadata": {},
   "outputs": [
    {
     "name": "stdout",
     "output_type": "stream",
     "text": [
      "              School Name School Type  Total Students  Total School Budget  \\\n",
      "0       Huang High School    District            2917              1910635   \n",
      "1    Figueroa High School    District            2949              1884411   \n",
      "2     Shelton High School     Charter            1761              1056600   \n",
      "3   Hernandez High School    District            4635              3022020   \n",
      "4     Griffin High School     Charter            1468               917500   \n",
      "5      Wilson High School     Charter            2283              1319574   \n",
      "6     Cabrera High School     Charter            1858              1081356   \n",
      "7      Bailey High School    District            4976              3124928   \n",
      "8      Holden High School     Charter             427               248087   \n",
      "9        Pena High School     Charter             962               585858   \n",
      "10     Wright High School     Charter            1800              1049400   \n",
      "11  Rodriguez High School    District            3999              2547363   \n",
      "12    Johnson High School    District            4761              3094650   \n",
      "13       Ford High School    District            2739              1763916   \n",
      "14     Thomas High School     Charter            1635              1043130   \n",
      "\n",
      "    Per Student Budget  avg_math_score  avg_reading_score  \\\n",
      "0                655.0       78.985371           81.87784   \n",
      "1                639.0       78.985371           81.87784   \n",
      "2                600.0       78.985371           81.87784   \n",
      "3                652.0       78.985371           81.87784   \n",
      "4                625.0       78.985371           81.87784   \n",
      "5                578.0       78.985371           81.87784   \n",
      "6                582.0       78.985371           81.87784   \n",
      "7                628.0       78.985371           81.87784   \n",
      "8                581.0       78.985371           81.87784   \n",
      "9                609.0       78.985371           81.87784   \n",
      "10               583.0       78.985371           81.87784   \n",
      "11               637.0       78.985371           81.87784   \n",
      "12               650.0       78.985371           81.87784   \n",
      "13               644.0       78.985371           81.87784   \n",
      "14               638.0       78.985371           81.87784   \n",
      "\n",
      "    passing_percent_math  passing_percent_reading  overall_passing_percentage  \n",
      "0              74.980853                85.805463                   65.172326  \n",
      "1              74.980853                85.805463                   65.172326  \n",
      "2              74.980853                85.805463                   65.172326  \n",
      "3              74.980853                85.805463                   65.172326  \n",
      "4              74.980853                85.805463                   65.172326  \n",
      "5              74.980853                85.805463                   65.172326  \n",
      "6              74.980853                85.805463                   65.172326  \n",
      "7              74.980853                85.805463                   65.172326  \n",
      "8              74.980853                85.805463                   65.172326  \n",
      "9              74.980853                85.805463                   65.172326  \n",
      "10             74.980853                85.805463                   65.172326  \n",
      "11             74.980853                85.805463                   65.172326  \n",
      "12             74.980853                85.805463                   65.172326  \n",
      "13             74.980853                85.805463                   65.172326  \n",
      "14             74.980853                85.805463                   65.172326  \n"
     ]
    }
   ],
   "source": [
    "# Create a new summarize DataFrame with the required key metrics\n",
    "#using \"df2 = pd.read_csv(\"schools_complete.csv\")\" created earlier \n",
    "\n",
    "# Calculate per student budget\n",
    "df2[\"Per Student Budget\"] = df2[\"budget\"] / df2[\"size\"]\n",
    "\n",
    "summarize_df = pd.DataFrame({\n",
    "    \"School Name\": df2[\"school_name\"],\n",
    "    \"School Type\": df2[\"type\"],\n",
    "    \"Total Students\": df2[\"size\"],\n",
    "    \"Total School Budget\": df2[\"budget\"],\n",
    "    \"Per Student Budget\": df2[\"Per Student Budget\"],\n",
    "    \"avg_math_score\": df['math_score'].mean(),         # Calculated from \"df = pd.read_csv(\"students_complete.csv\")\"  prior\n",
    "    \"avg_reading_score\": df['reading_score'].mean(),    # Similarly from \"df = pd.read_csv(\"students_complete.csv\")\"  prior\n",
    "    \"passing_percent_math\": (df['math_score'] >= 70).mean() * 100,\n",
    "    \"passing_percent_reading\": (df['reading_score'] >= 70).mean() * 100,\n",
    "    \"overall_passing_percentage\": ((df['math_score'] >= 70) & (df['reading_score'] >= 70)).mean() * 100\n",
    "})\n",
    "print(summarize_df)\n",
    "\n"
   ]
  },
  {
   "cell_type": "code",
   "execution_count": 48,
   "id": "dfd5e705",
   "metadata": {},
   "outputs": [],
   "source": [
    "# Create a new csv with the ontains the new data frame metrics summarize_df\n",
    "summarize_df.to_csv('school_metrics.csv', index=False)\n"
   ]
  },
  {
   "cell_type": "code",
   "execution_count": 51,
   "id": "79cc5e7a",
   "metadata": {},
   "outputs": [],
   "source": [
    "# Sort the DataFrame by 'overall_passing_percentage' in descending order\n",
    "top_schools = summarize_df.sort_values(by='overall_passing_percentage', ascending=False)\n",
    "\n"
   ]
  },
  {
   "cell_type": "code",
   "execution_count": 52,
   "id": "475d409f",
   "metadata": {},
   "outputs": [
    {
     "name": "stdout",
     "output_type": "stream",
     "text": [
      "             School Name School Type  Total Students  Total School Budget  \\\n",
      "0      Huang High School    District            2917              1910635   \n",
      "1   Figueroa High School    District            2949              1884411   \n",
      "2    Shelton High School     Charter            1761              1056600   \n",
      "3  Hernandez High School    District            4635              3022020   \n",
      "4    Griffin High School     Charter            1468               917500   \n",
      "\n",
      "   Per Student Budget  avg_math_score  avg_reading_score  \\\n",
      "0               655.0       78.985371           81.87784   \n",
      "1               639.0       78.985371           81.87784   \n",
      "2               600.0       78.985371           81.87784   \n",
      "3               652.0       78.985371           81.87784   \n",
      "4               625.0       78.985371           81.87784   \n",
      "\n",
      "   passing_percent_math  passing_percent_reading  overall_passing_percentage  \n",
      "0             74.980853                85.805463                   65.172326  \n",
      "1             74.980853                85.805463                   65.172326  \n",
      "2             74.980853                85.805463                   65.172326  \n",
      "3             74.980853                85.805463                   65.172326  \n",
      "4             74.980853                85.805463                   65.172326  \n"
     ]
    }
   ],
   "source": [
    "\n",
    "\n",
    "# Display the top 5 rows\n",
    "top_schools = top_schools.head(5)\n",
    "\n",
    "# Print the top_schools DataFrame\n",
    "print(top_schools)\n",
    "\n"
   ]
  },
  {
   "cell_type": "code",
   "execution_count": 54,
   "id": "214f2ab6",
   "metadata": {},
   "outputs": [
    {
     "name": "stdout",
     "output_type": "stream",
     "text": [
      "             School Name School Type  Total Students  Total School Budget  \\\n",
      "0      Huang High School    District            2917              1910635   \n",
      "1   Figueroa High School    District            2949              1884411   \n",
      "2    Shelton High School     Charter            1761              1056600   \n",
      "3  Hernandez High School    District            4635              3022020   \n",
      "4    Griffin High School     Charter            1468               917500   \n",
      "\n",
      "   Per Student Budget  avg_math_score  avg_reading_score  \\\n",
      "0               655.0       78.985371           81.87784   \n",
      "1               639.0       78.985371           81.87784   \n",
      "2               600.0       78.985371           81.87784   \n",
      "3               652.0       78.985371           81.87784   \n",
      "4               625.0       78.985371           81.87784   \n",
      "\n",
      "   passing_percent_math  passing_percent_reading  overall_passing_percentage  \n",
      "0             74.980853                85.805463                   65.172326  \n",
      "1             74.980853                85.805463                   65.172326  \n",
      "2             74.980853                85.805463                   65.172326  \n",
      "3             74.980853                85.805463                   65.172326  \n",
      "4             74.980853                85.805463                   65.172326  \n"
     ]
    }
   ],
   "source": [
    "# Sort the DataFrame by 'overall_passing_percentage' in ascending order\n",
    "bottom_schools = summarize_df.sort_values(by='overall_passing_percentage', ascending=True)\n",
    "\n",
    "# Display the bottom 5 rows\n",
    "bottom_schools = bottom_schools.head(5)\n",
    "\n",
    "# Print the bottom_schools DataFrame\n",
    "print(bottom_schools)\n"
   ]
  },
  {
   "cell_type": "code",
   "execution_count": 55,
   "id": "fff55b79",
   "metadata": {},
   "outputs": [
    {
     "name": "stdout",
     "output_type": "stream",
     "text": [
      "grade                       10th       11th       12th        9th\n",
      "school_name                                                      \n",
      "Bailey High School     76.996772  77.515588  76.492218  77.083676\n",
      "Cabrera High School    83.154506  82.765560  83.277487  83.094697\n",
      "Figueroa High School   76.539974  76.884344  77.151369  76.403037\n",
      "Ford High School       77.672316  76.918058  76.179963  77.361345\n",
      "Griffin High School    84.229064  83.842105  83.356164  82.044010\n",
      "Hernandez High School  77.337408  77.136029  77.186567  77.438495\n",
      "Holden High School     83.429825  85.000000  82.855422  83.787402\n",
      "Huang High School      75.908735  76.446602  77.225641  77.027251\n",
      "Johnson High School    76.691117  77.491653  76.863248  77.187857\n",
      "Pena High School       83.372000  84.328125  84.121547  83.625455\n",
      "Rodriguez High School  76.612500  76.395626  77.690748  76.859966\n",
      "Shelton High School    82.917411  83.383495  83.778976  83.420755\n",
      "Thomas High School     83.087886  83.498795  83.497041  83.590022\n",
      "Wilson High School     83.724422  83.195326  83.035794  83.085578\n",
      "Wright High School     84.010288  83.836782  83.644986  83.264706\n"
     ]
    }
   ],
   "source": [
    "# Group the data by school and grade level, and calculate the average math score\n",
    "average_math_by_grade = df.groupby(['school_name', 'grade'])['math_score'].mean()\n",
    "\n",
    "# Reset the index of the resulting Series\n",
    "average_math_by_grade = average_math_by_grade.reset_index()\n",
    "\n",
    "# Pivot the DataFrame to have grades as columns and schools as rows\n",
    "average_math_by_grade = average_math_by_grade.pivot(index='school_name', columns='grade', values='math_score')\n",
    "\n",
    "# Print the average_math_by_grade DataFrame\n",
    "print(average_math_by_grade)"
   ]
  },
  {
   "cell_type": "code",
   "execution_count": 56,
   "id": "ca2a5a91",
   "metadata": {},
   "outputs": [
    {
     "name": "stdout",
     "output_type": "stream",
     "text": [
      "grade                       10th       11th       12th        9th\n",
      "school_name                                                      \n",
      "Bailey High School     80.907183  80.945643  80.912451  81.303155\n",
      "Cabrera High School    84.253219  83.788382  84.287958  83.676136\n",
      "Figueroa High School   81.408912  80.640339  81.384863  81.198598\n",
      "Ford High School       81.262712  80.403642  80.662338  80.632653\n",
      "Griffin High School    83.706897  84.288089  84.013699  83.369193\n",
      "Hernandez High School  80.660147  81.396140  80.857143  80.866860\n",
      "Holden High School     83.324561  83.815534  84.698795  83.677165\n",
      "Huang High School      81.512386  81.417476  80.305983  81.290284\n",
      "Johnson High School    80.773431  80.616027  81.227564  81.260714\n",
      "Pena High School       83.612000  84.335938  84.591160  83.807273\n",
      "Rodriguez High School  80.629808  80.864811  80.376426  80.993127\n",
      "Shelton High School    83.441964  84.373786  82.781671  84.122642\n",
      "Thomas High School     84.254157  83.585542  83.831361  83.728850\n",
      "Wilson High School     84.021452  83.764608  84.317673  83.939778\n",
      "Wright High School     83.812757  84.156322  84.073171  83.833333\n"
     ]
    }
   ],
   "source": [
    "# Group the data by school and grade level, and calculate the average reading score\n",
    "average_reading_by_grade = df.groupby(['school_name', 'grade'])['reading_score'].mean()\n",
    "\n",
    "# Reset the index of the resulting Series\n",
    "average_reading_by_grade = average_reading_by_grade.reset_index()\n",
    "\n",
    "# Pivot the DataFrame to have grades as columns and schools as rows\n",
    "average_reading_by_grade = average_reading_by_grade.pivot(index='school_name', columns='grade', values='reading_score')\n",
    "\n",
    "# Print the average_reading_by_grade DataFrame\n",
    "print(average_reading_by_grade)"
   ]
  },
  {
   "cell_type": "code",
   "execution_count": 57,
   "id": "08393947",
   "metadata": {},
   "outputs": [
    {
     "name": "stdout",
     "output_type": "stream",
     "text": [
      "                               avg_math_score  avg_reading_score  \\\n",
      "Spending Ranges (Per Student)                                      \n",
      "<$585                               78.985371           81.87784   \n",
      "$585-630                            78.985371           81.87784   \n",
      "$630-645                            78.985371           81.87784   \n",
      "$645-680                            78.985371           81.87784   \n",
      "\n",
      "                               passing_percent_math  passing_percent_reading  \\\n",
      "Spending Ranges (Per Student)                                                  \n",
      "<$585                                     74.980853                85.805463   \n",
      "$585-630                                  74.980853                85.805463   \n",
      "$630-645                                  74.980853                85.805463   \n",
      "$645-680                                  74.980853                85.805463   \n",
      "\n",
      "                               overall_passing_percentage  \n",
      "Spending Ranges (Per Student)                              \n",
      "<$585                                           65.172326  \n",
      "$585-630                                        65.172326  \n",
      "$630-645                                        65.172326  \n",
      "$645-680                                        65.172326  \n"
     ]
    },
    {
     "name": "stderr",
     "output_type": "stream",
     "text": [
      "C:\\Users\\Isaac Technology\\AppData\\Local\\Temp\\ipykernel_18056\\1702960598.py:9: FutureWarning: The default value of numeric_only in DataFrameGroupBy.mean is deprecated. In a future version, numeric_only will default to False. Either specify numeric_only or select only columns which should be valid for the function.\n",
      "  performance_by_spending = summarize_df.groupby('Spending Ranges (Per Student)').mean()\n"
     ]
    }
   ],
   "source": [
    "# Define the spending bins and labels\n",
    "spending_bins = [0, 585, 630, 645, 680]\n",
    "labels = [\"<$585\", \"$585-630\", \"$630-645\", \"$645-680\"]\n",
    "\n",
    "# Add a new column to the summarize_df DataFrame with the spending ranges\n",
    "summarize_df['Spending Ranges (Per Student)'] = pd.cut(summarize_df['Per Student Budget'], bins=spending_bins, labels=labels)\n",
    "\n",
    "# Group the data by spending ranges and calculate the average performance metrics\n",
    "performance_by_spending = summarize_df.groupby('Spending Ranges (Per Student)').mean()\n",
    "\n",
    "# Select the desired columns for the performance table\n",
    "performance_table = performance_by_spending[['avg_math_score', 'avg_reading_score', 'passing_percent_math', 'passing_percent_reading', 'overall_passing_percentage']]\n",
    "\n",
    "# Print the performance_table\n",
    "print(performance_table)\n"
   ]
  },
  {
   "attachments": {},
   "cell_type": "markdown",
   "id": "e3d9ef85",
   "metadata": {},
   "source": [
    "#Note\n",
    "# I have put so many hours in trying to getting ths assignment code error free. \n",
    "# As a result I seem to be falling behind on this week activities. \n",
    "# I will be hoping to revisit this challenge on a later date. May have to do a resubmission\n",
    "\n",
    "To do : \n",
    "\n",
    "Use pd.cut to categorize spending based on the bins.\n",
    "\n",
    "Use the following code to then calculate mean scores per spending range.\n",
    "pending_math_scores = school_spending_df.groupby([\"Spending Ranges (Per Student)\"])[\"Average Math Score\"].mean()\n",
    "spending_reading_scores = school_spending_df.groupby([\"Spending Ranges (Per Student)\"])[\"Average Reading Score\"].mean()\n",
    "spending_passing_math = school_spending_df.groupby([\"Spending Ranges (Per Student)\"])[\"% Passing Math\"].mean()\n",
    "spending_passing_reading = school_spending_df.groupby([\"Spending Ranges (Per Student)\"])[\"% Passing Reading\"].mean()\n",
    "overall_passing_spending = school_spending_df.groupby([\"Spending Ranges (Per Student)\"])[\"% Overall Passing\"].mean()\n",
    "\n",
    "Use the scores above to create a DataFrame called spending_summary.\n",
    "\n",
    "Include the following metrics in the table:\n",
    "\n",
    "Average math score\n",
    "\n",
    "Average reading score\n",
    "\n",
    "% passing math (the percentage of students who passed math)\n",
    "\n",
    "% passing reading (the percentage of students who passed reading)\n",
    "\n",
    "% overall passing (the percentage of students who passed math AND reading)\n",
    "\n",
    "Scores by School Size\n",
    "Use the following code to bin the per_school_summary.\n",
    "size_bins = [0, 1000, 2000, 5000]\n",
    "labels = [\"Small (<1000)\", \"Medium (1000-2000)\", \"Large (2000-5000)\"]\n",
    "\n",
    "Use pd.cut on the \"Total Students\" column of the per_school_summary DataFrame.\n",
    "\n",
    "Create a DataFrame called size_summary that breaks down school performance based on school size (small, medium, or large).\n",
    "\n",
    "Scores by School Type\n",
    "Use the per_school_summary DataFrame from the previous step to create a new DataFrame called type_summary.\n",
    "\n",
    "This new DataFrame should show school performance based on the \"School Type\"."
   ]
  }
 ],
 "metadata": {
  "kernelspec": {
   "display_name": "Python 3 (ipykernel)",
   "language": "python",
   "name": "python3"
  },
  "language_info": {
   "codemirror_mode": {
    "name": "ipython",
    "version": 3
   },
   "file_extension": ".py",
   "mimetype": "text/x-python",
   "name": "python",
   "nbconvert_exporter": "python",
   "pygments_lexer": "ipython3",
   "version": "3.10.11"
  }
 },
 "nbformat": 4,
 "nbformat_minor": 5
}
